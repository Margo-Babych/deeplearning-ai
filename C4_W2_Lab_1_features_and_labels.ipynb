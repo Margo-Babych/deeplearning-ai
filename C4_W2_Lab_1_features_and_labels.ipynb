{
  "nbformat": 4,
  "nbformat_minor": 0,
  "metadata": {
    "colab": {
      "provenance": [],
      "authorship_tag": "ABX9TyNczFc7gErzZ/WxJnqE/gf3",
      "include_colab_link": true
    },
    "kernelspec": {
      "name": "python3",
      "display_name": "Python 3"
    },
    "language_info": {
      "name": "python"
    }
  },
  "cells": [
    {
      "cell_type": "markdown",
      "metadata": {
        "id": "view-in-github",
        "colab_type": "text"
      },
      "source": [
        "<a href=\"https://colab.research.google.com/github/Margo-Babych/deeplearning-ai/blob/main/C4_W2_Lab_1_features_and_labels.ipynb\" target=\"_parent\"><img src=\"https://colab.research.google.com/assets/colab-badge.svg\" alt=\"Open In Colab\"/></a>"
      ]
    },
    {
      "cell_type": "markdown",
      "source": [
        "Ungraded Lab: Preparing Time Series Features and Labels\n",
        "In this lab, you will prepare time series data into features and labels that you can use to train a model. This is mainly achieved by a windowing technique where in you group consecutive measurement values into one feature and the next measurement will be the label. For example, in hourly measurements, you can use values taken at hours 1 to 11 to predict the value at hour 12. The next sections will show how you can implement this in Tensorflow.\n",
        "\n",
        "Let's begin!\n",
        "\n",
        "Imports\n",
        "Tensorflow will be your lone import in this module and you'll be using methods mainly from the tf.data API, particularly the tf.data.Dataset class. This contains many useful methods to arrange sequences of data and you'll see that shortly."
      ],
      "metadata": {
        "id": "z-1eRBwk4NwM"
      }
    },
    {
      "cell_type": "code",
      "execution_count": 1,
      "metadata": {
        "id": "qF_Hklmpz-TD"
      },
      "outputs": [],
      "source": [
        "import tensorflow as tf"
      ]
    },
    {
      "cell_type": "code",
      "source": [
        "# Generate a tf dataset with 10 elements (i.e. numbers 0 to 9)\n",
        "dataset = tf.data.Dataset.range(10)\n",
        "\n",
        "# Preview the result\n",
        "for val in dataset:\n",
        "   print(val.numpy())"
      ],
      "metadata": {
        "colab": {
          "base_uri": "https://localhost:8080/"
        },
        "id": "vNvgIdY_4V_S",
        "outputId": "f2ce7192-6904-4a42-e20a-eaaaffeffc01"
      },
      "execution_count": 2,
      "outputs": [
        {
          "output_type": "stream",
          "name": "stdout",
          "text": [
            "0\n",
            "1\n",
            "2\n",
            "3\n",
            "4\n",
            "5\n",
            "6\n",
            "7\n",
            "8\n",
            "9\n"
          ]
        }
      ]
    },
    {
      "cell_type": "code",
      "source": [
        "# Generate a tf dataset with 10 elements (i.e. numbers 0 to 9)\n",
        "dataset = tf.data.Dataset.range(10)\n",
        "\n",
        "# Window the data\n",
        "dataset = dataset.window(size=5, shift=1)\n",
        "\n",
        "# Print the result\n",
        "for window_dataset in dataset:\n",
        "  print(window_dataset)"
      ],
      "metadata": {
        "colab": {
          "base_uri": "https://localhost:8080/"
        },
        "id": "t-O16dkB4Y2C",
        "outputId": "5d0d17d4-0b0d-45f2-ce48-677b552b6c60"
      },
      "execution_count": 3,
      "outputs": [
        {
          "output_type": "stream",
          "name": "stdout",
          "text": [
            "<_VariantDataset element_spec=TensorSpec(shape=(), dtype=tf.int64, name=None)>\n",
            "<_VariantDataset element_spec=TensorSpec(shape=(), dtype=tf.int64, name=None)>\n",
            "<_VariantDataset element_spec=TensorSpec(shape=(), dtype=tf.int64, name=None)>\n",
            "<_VariantDataset element_spec=TensorSpec(shape=(), dtype=tf.int64, name=None)>\n",
            "<_VariantDataset element_spec=TensorSpec(shape=(), dtype=tf.int64, name=None)>\n",
            "<_VariantDataset element_spec=TensorSpec(shape=(), dtype=tf.int64, name=None)>\n",
            "<_VariantDataset element_spec=TensorSpec(shape=(), dtype=tf.int64, name=None)>\n",
            "<_VariantDataset element_spec=TensorSpec(shape=(), dtype=tf.int64, name=None)>\n",
            "<_VariantDataset element_spec=TensorSpec(shape=(), dtype=tf.int64, name=None)>\n",
            "<_VariantDataset element_spec=TensorSpec(shape=(), dtype=tf.int64, name=None)>\n"
          ]
        }
      ]
    },
    {
      "cell_type": "code",
      "source": [
        "# Print the result\n",
        "for window_dataset in dataset:\n",
        "  print([item.numpy() for item in window_dataset])"
      ],
      "metadata": {
        "colab": {
          "base_uri": "https://localhost:8080/"
        },
        "id": "cbFqQFKn4dHK",
        "outputId": "64988eac-cd0d-463b-f313-768f83859342"
      },
      "execution_count": 4,
      "outputs": [
        {
          "output_type": "stream",
          "name": "stdout",
          "text": [
            "[0, 1, 2, 3, 4]\n",
            "[1, 2, 3, 4, 5]\n",
            "[2, 3, 4, 5, 6]\n",
            "[3, 4, 5, 6, 7]\n",
            "[4, 5, 6, 7, 8]\n",
            "[5, 6, 7, 8, 9]\n",
            "[6, 7, 8, 9]\n",
            "[7, 8, 9]\n",
            "[8, 9]\n",
            "[9]\n"
          ]
        }
      ]
    },
    {
      "cell_type": "code",
      "source": [
        "# Generate a tf dataset with 10 elements (i.e. numbers 0 to 9)\n",
        "dataset = tf.data.Dataset.range(10)\n",
        "\n",
        "# Window the data but only take those with the specified size\n",
        "dataset = dataset.window(size=5, shift=1, drop_remainder=True)\n",
        "\n",
        "# Print the result\n",
        "for window_dataset in dataset:\n",
        "  print([item.numpy() for item in window_dataset])"
      ],
      "metadata": {
        "colab": {
          "base_uri": "https://localhost:8080/"
        },
        "id": "u1dJNu1M4fxh",
        "outputId": "6deb0197-55bd-4174-80bd-c42d130bbc43"
      },
      "execution_count": 5,
      "outputs": [
        {
          "output_type": "stream",
          "name": "stdout",
          "text": [
            "[0, 1, 2, 3, 4]\n",
            "[1, 2, 3, 4, 5]\n",
            "[2, 3, 4, 5, 6]\n",
            "[3, 4, 5, 6, 7]\n",
            "[4, 5, 6, 7, 8]\n",
            "[5, 6, 7, 8, 9]\n"
          ]
        }
      ]
    },
    {
      "cell_type": "code",
      "source": [
        "# Generate a tf dataset with 10 elements (i.e. numbers 0 to 9)\n",
        "dataset = tf.data.Dataset.range(10)\n",
        "\n",
        "# Window the data but only take those with the specified size\n",
        "dataset = dataset.window(5, shift=1, drop_remainder=True)\n",
        "\n",
        "# Flatten the windows by putting its elements in a single batch\n",
        "dataset = dataset.flat_map(lambda window: window.batch(5))\n",
        "\n",
        "# Print the results\n",
        "for window in dataset:\n",
        "  print(window.numpy())"
      ],
      "metadata": {
        "colab": {
          "base_uri": "https://localhost:8080/"
        },
        "id": "sHGloUta4iFR",
        "outputId": "908d128a-6428-4d13-cf79-896c23cb97b2"
      },
      "execution_count": 6,
      "outputs": [
        {
          "output_type": "stream",
          "name": "stdout",
          "text": [
            "[0 1 2 3 4]\n",
            "[1 2 3 4 5]\n",
            "[2 3 4 5 6]\n",
            "[3 4 5 6 7]\n",
            "[4 5 6 7 8]\n",
            "[5 6 7 8 9]\n"
          ]
        }
      ]
    },
    {
      "cell_type": "code",
      "source": [
        "# Generate a tf dataset with 10 elements (i.e. numbers 0 to 9)\n",
        "dataset = tf.data.Dataset.range(10)\n",
        "\n",
        "# Window the data but only take those with the specified size\n",
        "dataset = dataset.window(5, shift=1, drop_remainder=True)\n",
        "\n",
        "# Flatten the windows by putting its elements in a single batch\n",
        "dataset = dataset.flat_map(lambda window: window.batch(5))\n",
        "\n",
        "# Create tuples with features (first four elements of the window) and labels (last element)\n",
        "dataset = dataset.map(lambda window: (window[:-1], window[-1]))\n",
        "\n",
        "# Print the results\n",
        "for x,y in dataset:\n",
        "  print(\"x = \", x.numpy())\n",
        "  print(\"y = \", y.numpy())\n",
        "  print()"
      ],
      "metadata": {
        "colab": {
          "base_uri": "https://localhost:8080/"
        },
        "id": "deMcQXGW4ksB",
        "outputId": "9d66ada2-c35d-4588-c669-42f54711ee2f"
      },
      "execution_count": 7,
      "outputs": [
        {
          "output_type": "stream",
          "name": "stdout",
          "text": [
            "x =  [0 1 2 3]\n",
            "y =  4\n",
            "\n",
            "x =  [1 2 3 4]\n",
            "y =  5\n",
            "\n",
            "x =  [2 3 4 5]\n",
            "y =  6\n",
            "\n",
            "x =  [3 4 5 6]\n",
            "y =  7\n",
            "\n",
            "x =  [4 5 6 7]\n",
            "y =  8\n",
            "\n",
            "x =  [5 6 7 8]\n",
            "y =  9\n",
            "\n"
          ]
        }
      ]
    },
    {
      "cell_type": "code",
      "source": [
        "# Generate a tf dataset with 10 elements (i.e. numbers 0 to 9)\n",
        "dataset = tf.data.Dataset.range(10)\n",
        "\n",
        "# Window the data but only take those with the specified size\n",
        "dataset = dataset.window(5, shift=1, drop_remainder=True)\n",
        "\n",
        "# Flatten the windows by putting its elements in a single batch\n",
        "dataset = dataset.flat_map(lambda window: window.batch(5))\n",
        "\n",
        "# Create tuples with features (first four elements of the window) and labels (last element)\n",
        "dataset = dataset.map(lambda window: (window[:-1], window[-1]))\n",
        "\n",
        "# Shuffle the windows\n",
        "dataset = dataset.shuffle(buffer_size=10)\n",
        "\n",
        "# Print the results\n",
        "for x,y in dataset:\n",
        "  print(\"x = \", x.numpy())\n",
        "  print(\"y = \", y.numpy())\n",
        "  print()"
      ],
      "metadata": {
        "colab": {
          "base_uri": "https://localhost:8080/"
        },
        "id": "182Dwjm94nSZ",
        "outputId": "717a195a-e978-414f-ffe8-f32f9aa1844b"
      },
      "execution_count": 8,
      "outputs": [
        {
          "output_type": "stream",
          "name": "stdout",
          "text": [
            "x =  [5 6 7 8]\n",
            "y =  9\n",
            "\n",
            "x =  [2 3 4 5]\n",
            "y =  6\n",
            "\n",
            "x =  [1 2 3 4]\n",
            "y =  5\n",
            "\n",
            "x =  [0 1 2 3]\n",
            "y =  4\n",
            "\n",
            "x =  [4 5 6 7]\n",
            "y =  8\n",
            "\n",
            "x =  [3 4 5 6]\n",
            "y =  7\n",
            "\n"
          ]
        }
      ]
    },
    {
      "cell_type": "code",
      "source": [
        "# Generate a tf dataset with 10 elements (i.e. numbers 0 to 9)\n",
        "dataset = tf.data.Dataset.range(10)\n",
        "\n",
        "# Window the data but only take those with the specified size\n",
        "dataset = dataset.window(5, shift=1, drop_remainder=True)\n",
        "\n",
        "# Flatten the windows by putting its elements in a single batch\n",
        "dataset = dataset.flat_map(lambda window: window.batch(5))\n",
        "\n",
        "# Create tuples with features (first four elements of the window) and labels (last element)\n",
        "dataset = dataset.map(lambda window: (window[:-1], window[-1]))\n",
        "\n",
        "# Shuffle the windows\n",
        "dataset = dataset.shuffle(buffer_size=10)\n",
        "\n",
        "# Create batches of windows\n",
        "dataset = dataset.batch(2).prefetch(1)\n",
        "\n",
        "# Print the results\n",
        "for x,y in dataset:\n",
        "  print(\"x = \", x.numpy())\n",
        "  print(\"y = \", y.numpy())\n",
        "  print()"
      ],
      "metadata": {
        "colab": {
          "base_uri": "https://localhost:8080/"
        },
        "id": "OvHmHlPT405h",
        "outputId": "04a512cc-5ffa-4135-93f5-a1ee3df50feb"
      },
      "execution_count": 9,
      "outputs": [
        {
          "output_type": "stream",
          "name": "stdout",
          "text": [
            "x =  [[3 4 5 6]\n",
            " [2 3 4 5]]\n",
            "y =  [7 6]\n",
            "\n",
            "x =  [[4 5 6 7]\n",
            " [5 6 7 8]]\n",
            "y =  [8 9]\n",
            "\n",
            "x =  [[1 2 3 4]\n",
            " [0 1 2 3]]\n",
            "y =  [5 4]\n",
            "\n"
          ]
        }
      ]
    }
  ]
}